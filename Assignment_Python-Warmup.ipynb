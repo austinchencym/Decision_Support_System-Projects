{
 "cells": [
  {
   "cell_type": "markdown",
   "metadata": {},
   "source": [
    "# Assignment - Python Warmup\n",
    "Please follow the instructions in the assignment's PDF and fill in the code for each function."
   ]
  },
  {
   "cell_type": "markdown",
   "metadata": {},
   "source": [
    "## Exercise 1"
   ]
  },
  {
   "cell_type": "code",
   "execution_count": 30,
   "metadata": {},
   "outputs": [],
   "source": [
    "def positionWord(filePath, position):\n",
    "    result =[]\n",
    "    with open(filePath, \"r\") as file:\n",
    "        text = file.read()\n",
    "    \n",
    "    for line in text.splitlines():\n",
    "        cleanWords = [word.strip(\"\"\" ,.*()[]!@#$%^&*{}?'`\"-\"\"\") for word in line.split()]\n",
    "        result.append(cleanWords[position])\n",
    "    return result\n",
    "    "
   ]
  },
  {
   "cell_type": "code",
   "execution_count": 31,
   "metadata": {},
   "outputs": [
    {
     "data": {
      "text/plain": [
       "['in', 'Ghost', 'humour', 'or', 'one']"
      ]
     },
     "execution_count": 31,
     "metadata": {},
     "output_type": "execute_result"
    }
   ],
   "source": [
    "positionWord(\"example.txt\", 3)"
   ]
  },
  {
   "cell_type": "markdown",
   "metadata": {},
   "source": [
    "## Exercise 2"
   ]
  },
  {
   "cell_type": "code",
   "execution_count": 32,
   "metadata": {},
   "outputs": [],
   "source": [
    "def onlyUpperCase(text):\n",
    "    return str(''.join(filter(str.isupper, text)))"
   ]
  },
  {
   "cell_type": "code",
   "execution_count": 33,
   "metadata": {},
   "outputs": [
    {
     "data": {
      "text/plain": [
       "'DSS'"
      ]
     },
     "execution_count": 33,
     "metadata": {},
     "output_type": "execute_result"
    }
   ],
   "source": [
    "onlyUpperCase(\"lorem ipsum Dolor Sit amet, conSectetur.\")"
   ]
  },
  {
   "cell_type": "markdown",
   "metadata": {},
   "source": [
    "## Exercise 3"
   ]
  },
  {
   "cell_type": "code",
   "execution_count": 89,
   "metadata": {},
   "outputs": [],
   "source": [
    "def divisors(num1,num2):    \n",
    "    result = []\n",
    "    for i in range(1,num1+1):\n",
    "        if i % num2 == 0:\n",
    "            result.append(i)\n",
    "    return result"
   ]
  },
  {
   "cell_type": "code",
   "execution_count": 90,
   "metadata": {},
   "outputs": [
    {
     "data": {
      "text/plain": [
       "[6, 12, 18]"
      ]
     },
     "execution_count": 90,
     "metadata": {},
     "output_type": "execute_result"
    }
   ],
   "source": [
    "divisors(23, 6)\n"
   ]
  },
  {
   "cell_type": "markdown",
   "metadata": {},
   "source": [
    "## Exercise 4"
   ]
  },
  {
   "cell_type": "code",
   "execution_count": 94,
   "metadata": {},
   "outputs": [],
   "source": [
    "def countWords (list):\n",
    "    wordfrequency = {}\n",
    "    for word in list:\n",
    "        if word not in wordfrequency: #check if item word exists in the dictionary, if not,create new item\n",
    "            wordfrequency[word] = 0\n",
    "        wordfrequency[word] += 1    #value of frequency +=1 for each word in list --> dic\n",
    "    return wordfrequency\n"
   ]
  },
  {
   "cell_type": "code",
   "execution_count": 95,
   "metadata": {},
   "outputs": [
    {
     "data": {
      "text/plain": [
       "{'the': 2,\n",
       " 'seething': 2,\n",
       " 'sea': 2,\n",
       " 'ceaseth': 1,\n",
       " 'and': 1,\n",
       " 'thus': 1,\n",
       " 'sufficeth': 1,\n",
       " 'us': 1}"
      ]
     },
     "execution_count": 95,
     "metadata": {},
     "output_type": "execute_result"
    }
   ],
   "source": [
    "countWords([\"the\", \"seething\", \"sea\", \"ceaseth\",\n",
    "\"and\", \"thus\", \"the\", \"seething\", \"sea\", \"sufficeth\", \"us\"])"
   ]
  },
  {
   "cell_type": "markdown",
   "metadata": {},
   "source": [
    "## Exercise 5"
   ]
  },
  {
   "cell_type": "code",
   "execution_count": 108,
   "metadata": {},
   "outputs": [],
   "source": [
    "def organizedCountWords(wordList):\n",
    "    wordfrequency = {}\n",
    "    result = {}\n",
    "    unique_words = []\n",
    "    unique_words_length = []\n",
    "    unique_length = []\n",
    "    \n",
    "    #return a list of unique word list\n",
    "    unique_words = set(wordList)\n",
    "    \n",
    "    #get a list of length of each word in the previous list\n",
    "    for word in unique_words:\n",
    "        unique_words_length.append(len(word))\n",
    "\n",
    "    #return a list of unique length in unique_words_length in assending order\n",
    "    unique_length = set(unique_words_length)\n",
    "    unique_length_list = list(unique_length)\n",
    "\n",
    "    for wordlen in unique_length_list:\n",
    "        for word in wordList:\n",
    "            if len(word) == wordlen: #if word length mathces length in unique_length_list\n",
    "                if word not in wordfrequency: #check if item word exists in the dictionary, if not,create new item\n",
    "                    wordfrequency[word] = 0\n",
    "                wordfrequency[word] += 1         #value of frequency +=1 for each word in list --> dic\n",
    "        result[wordlen] = wordfrequency   # set cooresponding wordfrequency as property of corresponding wordlen\n",
    "        wordfrequency = {}\n",
    "    return result"
   ]
  },
  {
   "cell_type": "code",
   "execution_count": 109,
   "metadata": {},
   "outputs": [
    {
     "data": {
      "text/plain": [
       "{2: {'us': 1},\n",
       " 3: {'the': 2, 'sea': 2, 'and': 1},\n",
       " 4: {'thus': 1},\n",
       " 7: {'ceaseth': 1},\n",
       " 8: {'seething': 2},\n",
       " 9: {'sufficeth': 1}}"
      ]
     },
     "execution_count": 109,
     "metadata": {},
     "output_type": "execute_result"
    }
   ],
   "source": [
    "organizedCountWords([\"the\", \"seething\", \"sea\", \"ceaseth\", \"and\", \"thus\", \"the\", \"seething\", \"sea\", \"sufficeth\", \"us\"])"
   ]
  },
  {
   "cell_type": "code",
   "execution_count": 1,
   "metadata": {},
   "outputs": [],
   "source": []
  },
  {
   "cell_type": "code",
   "execution_count": 7,
   "metadata": {},
   "outputs": [
    {
     "data": {
      "text/plain": [
       "{2, 3, 4, 7, 8, 9}"
      ]
     },
     "execution_count": 7,
     "metadata": {},
     "output_type": "execute_result"
    }
   ],
   "source": []
  },
  {
   "cell_type": "markdown",
   "metadata": {},
   "source": [
    "----------\n",
    "## Validators\n",
    "This following cell provide basic validation of your functions.\n",
    "\n",
    "You should run each cell and make sure you do not get an exception.\n",
    "\n",
    "**IMPORTANT: passing these validators does not mean your code is correct. These are basic validators to make sure the interface of your functions is correct.**"
   ]
  },
  {
   "cell_type": "code",
   "execution_count": 40,
   "metadata": {},
   "outputs": [],
   "source": [
    "assert(isinstance(positionWord(\"example.txt\", 2), list))"
   ]
  },
  {
   "cell_type": "code",
   "execution_count": 91,
   "metadata": {},
   "outputs": [],
   "source": [
    "assert(isinstance(onlyUpperCase(\"lorem ipsum Dolor Sit amet, conSectetur.\"), str))"
   ]
  },
  {
   "cell_type": "code",
   "execution_count": 92,
   "metadata": {},
   "outputs": [],
   "source": [
    "assert(isinstance(divisors(23, 6), list))"
   ]
  },
  {
   "cell_type": "code",
   "execution_count": 96,
   "metadata": {},
   "outputs": [],
   "source": [
    "words = [\"the\", \"seething\", \"sea\", \"ceaseth\", \"and\", \"thus\", \"the\", \"seething\", \"sea\", \"sufficeth\", \"us\"]\n",
    "assert(isinstance(countWords(words), dict))"
   ]
  },
  {
   "cell_type": "code",
   "execution_count": 110,
   "metadata": {},
   "outputs": [],
   "source": [
    "words = [\"the\", \"seething\", \"sea\", \"ceaseth\", \"and\", \"thus\", \"the\", \"seething\", \"sea\", \"sufficeth\", \"us\"]\n",
    "assert(isinstance(organizedCountWords(words), dict))"
   ]
  }
 ],
 "metadata": {
  "kernelspec": {
   "display_name": "Python [conda env:mie451-warmup]",
   "language": "python",
   "name": "conda-env-mie451-warmup-py"
  },
  "language_info": {
   "codemirror_mode": {
    "name": "ipython",
    "version": 3
   },
   "file_extension": ".py",
   "mimetype": "text/x-python",
   "name": "python",
   "nbconvert_exporter": "python",
   "pygments_lexer": "ipython3",
   "version": "3.6.6"
  }
 },
 "nbformat": 4,
 "nbformat_minor": 2
}
